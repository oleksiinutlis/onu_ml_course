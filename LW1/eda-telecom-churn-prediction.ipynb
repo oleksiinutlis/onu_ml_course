{
 "metadata": {
  "kernelspec": {
   "display_name": "Python 3",
   "language": "python",
   "name": "python3"
  },
  "language_info": {
   "name": "python",
   "version": "3.6.6",
   "mimetype": "text/x-python",
   "codemirror_mode": {
    "name": "ipython",
    "version": 3
   },
   "pygments_lexer": "ipython3",
   "nbconvert_exporter": "python",
   "file_extension": ".py"
  },
  "kaggle": {
   "accelerator": "none",
   "dataSources": [
    {
     "sourceId": 4430,
     "sourceType": "datasetVersion",
     "datasetId": 2667
    }
   ],
   "dockerImageVersionId": 22557,
   "isInternetEnabled": false,
   "language": "python",
   "sourceType": "notebook",
   "isGpuEnabled": false
  }
 },
 "nbformat_minor": 4,
 "nbformat": 4,
 "cells": [
  {
   "cell_type": "code",
   "source": [
    "# Input data files are available in the \"../input/\" directory.\n",
    "# For example, running this (by clicking run or pressing Shift+Enter) will list the files in the input directory\n",
    "\n",
    "import os\n",
    "print(os.listdir(\"../input\"))\n",
    "\n",
    "# Any results you write to the current directory are saved as output."
   ],
   "metadata": {
    "_uuid": "8f2839f25d086af736a60e9eeb907d3b93b6e0e5",
    "_cell_guid": "b1076dfc-b9ad-4769-8c92-a6c4dae69d19",
    "trusted": true
   },
   "execution_count": null,
   "outputs": []
  },
  {
   "cell_type": "markdown",
   "source": [
    "Підключіть необхідні бібліотеки."
   ],
   "metadata": {
    "_cell_guid": "79c7e3d0-c299-4dcb-8224-4455121ee9b0",
    "_uuid": "d629ff2d2480ee46fbb7e2d37f6b5fab8052498a"
   }
  },
  {
   "cell_type": "code",
   "source": [
    "# import numpy as np\n",
    "# import pandas as pd\n",
    "# import matplotlib.pyplot as plt\n",
    "# import seaborn as sns\n",
    "# sns.set(rc={'figure.figsize':(10, 8)}); # you can change this if needed"
   ],
   "metadata": {
    "_uuid": "7dd22bbf51df97d55ee93788f1d310285f214e05",
    "trusted": true
   },
   "execution_count": null,
   "outputs": []
  },
  {
   "cell_type": "markdown",
   "source": [
    "## Data loading"
   ],
   "metadata": {}
  },
  {
   "cell_type": "markdown",
   "source": [
    "Завантажте дані. Вони знаходяться в директорії input."
   ],
   "metadata": {
    "_uuid": "885c463d5e8877d2bec393e73371805b46b336fc"
   }
  },
  {
   "cell_type": "code",
   "source": [
    "# df = pd.read_csv(...)"
   ],
   "metadata": {
    "_uuid": "2c94255a36035212c96647646401c2ccebeb6f17",
    "trusted": true
   },
   "execution_count": null,
   "outputs": []
  },
  {
   "cell_type": "markdown",
   "source": [
    "## Data understanding\n",
    "\n",
    "* Виведіть загальну інформацію про набір даних. Яку кількість змінних він містить? Який тип змінних? Чи багато пропущених значень?\n",
    "* Виведіть описову статистику по числовим змінним. Зробіть візуалізацію розподілів найцікавіших із них. Що можна сказати про наявність помилкових значень? Чи багато нетипових значень?\n",
    "* Виведіть описову статистику по категоріальним змінним. Зробіть візуалізацію розподілів найцікавіших із них."
   ],
   "metadata": {}
  },
  {
   "cell_type": "code",
   "source": [
    "# Your code"
   ],
   "metadata": {},
   "execution_count": null,
   "outputs": []
  },
  {
   "cell_type": "markdown",
   "source": [
    "## Data cleaning & Analyzing relationships\n",
    "\n",
    "У подальших етапах за необхідності видаляйте (або заповнюйте певним чином) пропущені значення та/або викиди (outliers). Цей крок не є обов'язковим, проте слід пам'ятати, що деякі коефіцієнти кореляції та моделі чутливі до наявності нетипових значень у даних."
   ],
   "metadata": {}
  },
  {
   "cell_type": "markdown",
   "source": [
    "Яким є розподіл абонентів за цільовою ознакою **churn**? Назвіть відсоток лояльних абонентів."
   ],
   "metadata": {
    "_uuid": "e74fd643459b01f6aa3e4ab0933329e4c6383c89"
   }
  },
  {
   "cell_type": "code",
   "source": [
    "# Your code"
   ],
   "metadata": {
    "_uuid": "1b2272ce0c97d21bec6340b59297c24254365861",
    "trusted": true
   },
   "execution_count": null,
   "outputs": []
  },
  {
   "cell_type": "markdown",
   "source": [
    "Жителі якого штату розмовляють телефоном найбільше? менше всього? Зверніть увагу, що нас цікавлять усі види дзвінків."
   ],
   "metadata": {
    "_uuid": "583e90fb9bd796a5b24bddeba2e3a7f9551b9dcb"
   }
  },
  {
   "cell_type": "code",
   "source": [
    "# Your code"
   ],
   "metadata": {
    "_uuid": "8a2664a567178d0cd81b7129f6db1ddd590adec4",
    "trusted": true
   },
   "execution_count": null,
   "outputs": []
  },
  {
   "cell_type": "markdown",
   "source": [
    "Чи вірно, що люди, які здійснюють багато міжнародних дзвінків, набувають **international plan**? Не забувайте про візуалізацію інформації."
   ],
   "metadata": {
    "_uuid": "98c890ef205a1107fafa93486fb83c28eee046c4"
   }
  },
  {
   "cell_type": "code",
   "source": [
    "# Your code"
   ],
   "metadata": {
    "_uuid": "f247d8c674f23c46498a8849dddd8193bd974950",
    "trusted": true
   },
   "execution_count": null,
   "outputs": []
  },
  {
   "cell_type": "markdown",
   "source": [
    "Як пов'язані наявність голосової пошти та міжнародного плану з лояльністю абонентів? Перевірте статистичну значущість цих зв'язків."
   ],
   "metadata": {
    "_uuid": "90ee0d2f372c830280712868654c7233075a6b1b"
   }
  },
  {
   "cell_type": "code",
   "source": [
    "# Your code"
   ],
   "metadata": {
    "_uuid": "54d12483caa0f73ba50cce187e7a7903f69cfea7",
    "trusted": true
   },
   "execution_count": null,
   "outputs": []
  },
  {
   "cell_type": "markdown",
   "source": [
    "Що можна сказати про взаємозв'язок кількості звернень до кол-центру та лояльності? Не забувайте про візуалізацію інформації."
   ],
   "metadata": {
    "_uuid": "1479e074b5b41285b0cc63644f4cf93698829f5c"
   }
  },
  {
   "cell_type": "code",
   "source": [
    "# Your code"
   ],
   "metadata": {
    "_uuid": "5f30858aa65a333ec30bbe28bd1a867b0c800b02",
    "trusted": true
   },
   "execution_count": null,
   "outputs": []
  },
  {
   "cell_type": "markdown",
   "source": [
    "Які з числових ознак мають найбільший рівень кореляції? Чому?"
   ],
   "metadata": {
    "_uuid": "931c671f63bda7d31084b277795af2c1f2906691"
   }
  },
  {
   "cell_type": "code",
   "source": [
    "# Your code"
   ],
   "metadata": {
    "_uuid": "01f9c0e2b87b3b213fe2b473ef36228d45993c95",
    "trusted": true
   },
   "execution_count": null,
   "outputs": []
  },
  {
   "cell_type": "markdown",
   "source": [
    "Чи пов'язаний час користування обліковим записом із кількістю звернень до кол-центру?"
   ],
   "metadata": {
    "_uuid": "a5227a82b172e184fd589be1e1da5cc7a5488a56"
   }
  },
  {
   "cell_type": "code",
   "source": [
    "# Your code"
   ],
   "metadata": {
    "_uuid": "5128ab67334c63df73ba7b94215bb69d263b1131",
    "trusted": true
   },
   "execution_count": null,
   "outputs": []
  },
  {
   "cell_type": "markdown",
   "source": [
    "Які ще інсайти можна знайти в наявних даних? Творче завдання."
   ],
   "metadata": {
    "_uuid": "9f6219d08a04ca71ac239f6ba72e2f27d3c1d9a9"
   }
  },
  {
   "cell_type": "code",
   "source": [
    "# Your code"
   ],
   "metadata": {
    "_uuid": "1a0d6dc85f95efde3a3d77a89440cccf4c07a16f",
    "trusted": true
   },
   "execution_count": null,
   "outputs": []
  }
 ]
}
